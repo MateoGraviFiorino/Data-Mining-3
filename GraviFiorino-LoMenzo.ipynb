{
 "cells": [
  {
   "cell_type": "markdown",
   "metadata": {},
   "source": [
    "# Librerías"
   ]
  },
  {
   "cell_type": "code",
   "execution_count": 1,
   "metadata": {},
   "outputs": [],
   "source": [
    "import pandas as pd\n",
    "import numpy as np\n",
    "import matplotlib.pyplot as plt\n",
    "import seaborn as sns"
   ]
  },
  {
   "cell_type": "code",
   "execution_count": 26,
   "metadata": {},
   "outputs": [],
   "source": [
    "from sklearn.model_selection import train_test_split, cross_val_score\n",
    "from sklearn.preprocessing import StandardScaler\n",
    "from sklearn.svm import SVC\n",
    "from sklearn.metrics import classification_report, accuracy_score\n",
    "from sklearn.ensemble import RandomForestClassifier"
   ]
  },
  {
   "cell_type": "markdown",
   "metadata": {},
   "source": [
    "# Carga de dataset"
   ]
  },
  {
   "cell_type": "markdown",
   "metadata": {},
   "source": [
    "1. Delimitador ';'"
   ]
  },
  {
   "cell_type": "code",
   "execution_count": 12,
   "metadata": {},
   "outputs": [],
   "source": [
    "df = pd.read_csv(\"CoffeeRatings.csv\", delimiter = ';')"
   ]
  },
  {
   "cell_type": "code",
   "execution_count": 13,
   "metadata": {},
   "outputs": [
    {
     "data": {
      "text/html": [
       "<div>\n",
       "<style scoped>\n",
       "    .dataframe tbody tr th:only-of-type {\n",
       "        vertical-align: middle;\n",
       "    }\n",
       "\n",
       "    .dataframe tbody tr th {\n",
       "        vertical-align: top;\n",
       "    }\n",
       "\n",
       "    .dataframe thead th {\n",
       "        text-align: right;\n",
       "    }\n",
       "</style>\n",
       "<table border=\"1\" class=\"dataframe\">\n",
       "  <thead>\n",
       "    <tr style=\"text-align: right;\">\n",
       "      <th></th>\n",
       "      <th>Scores_Aroma</th>\n",
       "      <th>Scores_Flavor</th>\n",
       "      <th>Scores_Aftertaste</th>\n",
       "      <th>Scores_Acidity</th>\n",
       "      <th>Scores_Body</th>\n",
       "      <th>Scores_Balance</th>\n",
       "      <th>Scores_Uniformity</th>\n",
       "      <th>Scores_Sweetness</th>\n",
       "      <th>Scores_Moisture</th>\n",
       "      <th>Scores_Total</th>\n",
       "      <th>Color</th>\n",
       "    </tr>\n",
       "  </thead>\n",
       "  <tbody>\n",
       "    <tr>\n",
       "      <th>0</th>\n",
       "      <td>85</td>\n",
       "      <td>85</td>\n",
       "      <td>80</td>\n",
       "      <td>80</td>\n",
       "      <td>80</td>\n",
       "      <td>80</td>\n",
       "      <td>100</td>\n",
       "      <td>100</td>\n",
       "      <td>12</td>\n",
       "      <td>8692</td>\n",
       "      <td>Green</td>\n",
       "    </tr>\n",
       "    <tr>\n",
       "      <th>1</th>\n",
       "      <td>85</td>\n",
       "      <td>817</td>\n",
       "      <td>80</td>\n",
       "      <td>775</td>\n",
       "      <td>80</td>\n",
       "      <td>80</td>\n",
       "      <td>100</td>\n",
       "      <td>100</td>\n",
       "      <td>12</td>\n",
       "      <td>8642</td>\n",
       "      <td>Green</td>\n",
       "    </tr>\n",
       "  </tbody>\n",
       "</table>\n",
       "</div>"
      ],
      "text/plain": [
       "   Scores_Aroma  Scores_Flavor  Scores_Aftertaste  Scores_Acidity  \\\n",
       "0            85             85                 80              80   \n",
       "1            85            817                 80             775   \n",
       "\n",
       "   Scores_Body  Scores_Balance  Scores_Uniformity  Scores_Sweetness  \\\n",
       "0           80              80                100               100   \n",
       "1           80              80                100               100   \n",
       "\n",
       "   Scores_Moisture  Scores_Total  Color  \n",
       "0               12          8692  Green  \n",
       "1               12          8642  Green  "
      ]
     },
     "execution_count": 13,
     "metadata": {},
     "output_type": "execute_result"
    }
   ],
   "source": [
    "df.head(2)"
   ]
  },
  {
   "cell_type": "code",
   "execution_count": 14,
   "metadata": {},
   "outputs": [
    {
     "data": {
      "text/plain": [
       "Index(['Scores_Aroma', 'Scores_Flavor', 'Scores_Aftertaste', 'Scores_Acidity',\n",
       "       'Scores_Body', 'Scores_Balance', 'Scores_Uniformity',\n",
       "       'Scores_Sweetness', 'Scores_Moisture', 'Scores_Total', 'Color'],\n",
       "      dtype='object')"
      ]
     },
     "execution_count": 14,
     "metadata": {},
     "output_type": "execute_result"
    }
   ],
   "source": [
    "df.columns\n",
    "#len(df.columns)"
   ]
  },
  {
   "cell_type": "code",
   "execution_count": 15,
   "metadata": {},
   "outputs": [
    {
     "data": {
      "text/html": [
       "<div>\n",
       "<style scoped>\n",
       "    .dataframe tbody tr th:only-of-type {\n",
       "        vertical-align: middle;\n",
       "    }\n",
       "\n",
       "    .dataframe tbody tr th {\n",
       "        vertical-align: top;\n",
       "    }\n",
       "\n",
       "    .dataframe thead th {\n",
       "        text-align: right;\n",
       "    }\n",
       "</style>\n",
       "<table border=\"1\" class=\"dataframe\">\n",
       "  <thead>\n",
       "    <tr style=\"text-align: right;\">\n",
       "      <th></th>\n",
       "      <th>Scores_Aroma</th>\n",
       "      <th>Scores_Flavor</th>\n",
       "      <th>Scores_Aftertaste</th>\n",
       "      <th>Scores_Acidity</th>\n",
       "      <th>Scores_Body</th>\n",
       "      <th>Scores_Balance</th>\n",
       "      <th>Scores_Uniformity</th>\n",
       "      <th>Scores_Sweetness</th>\n",
       "      <th>Scores_Moisture</th>\n",
       "      <th>Scores_Total</th>\n",
       "    </tr>\n",
       "  </thead>\n",
       "  <tbody>\n",
       "    <tr>\n",
       "      <th>count</th>\n",
       "      <td>835.000000</td>\n",
       "      <td>835.000000</td>\n",
       "      <td>835.000000</td>\n",
       "      <td>835.000000</td>\n",
       "      <td>835.000000</td>\n",
       "      <td>835.000000</td>\n",
       "      <td>835.000000</td>\n",
       "      <td>835.000000</td>\n",
       "      <td>835.000000</td>\n",
       "      <td>835.000000</td>\n",
       "    </tr>\n",
       "    <tr>\n",
       "      <th>mean</th>\n",
       "      <td>623.726946</td>\n",
       "      <td>615.576048</td>\n",
       "      <td>611.677844</td>\n",
       "      <td>617.116168</td>\n",
       "      <td>610.330539</td>\n",
       "      <td>611.276647</td>\n",
       "      <td>191.758084</td>\n",
       "      <td>157.644311</td>\n",
       "      <td>8.231138</td>\n",
       "      <td>6675.440719</td>\n",
       "    </tr>\n",
       "    <tr>\n",
       "      <th>std</th>\n",
       "      <td>273.720152</td>\n",
       "      <td>274.245606</td>\n",
       "      <td>263.865747</td>\n",
       "      <td>274.480062</td>\n",
       "      <td>276.366482</td>\n",
       "      <td>276.300203</td>\n",
       "      <td>257.583828</td>\n",
       "      <td>203.439529</td>\n",
       "      <td>5.130245</td>\n",
       "      <td>3007.519639</td>\n",
       "    </tr>\n",
       "    <tr>\n",
       "      <th>min</th>\n",
       "      <td>0.000000</td>\n",
       "      <td>0.000000</td>\n",
       "      <td>0.000000</td>\n",
       "      <td>0.000000</td>\n",
       "      <td>0.000000</td>\n",
       "      <td>0.000000</td>\n",
       "      <td>0.000000</td>\n",
       "      <td>0.000000</td>\n",
       "      <td>0.000000</td>\n",
       "      <td>0.000000</td>\n",
       "    </tr>\n",
       "    <tr>\n",
       "      <th>25%</th>\n",
       "      <td>717.000000</td>\n",
       "      <td>708.000000</td>\n",
       "      <td>683.000000</td>\n",
       "      <td>717.000000</td>\n",
       "      <td>708.000000</td>\n",
       "      <td>692.000000</td>\n",
       "      <td>100.000000</td>\n",
       "      <td>100.000000</td>\n",
       "      <td>1.000000</td>\n",
       "      <td>7792.000000</td>\n",
       "    </tr>\n",
       "    <tr>\n",
       "      <th>50%</th>\n",
       "      <td>758.000000</td>\n",
       "      <td>742.000000</td>\n",
       "      <td>733.000000</td>\n",
       "      <td>742.000000</td>\n",
       "      <td>742.000000</td>\n",
       "      <td>742.000000</td>\n",
       "      <td>100.000000</td>\n",
       "      <td>100.000000</td>\n",
       "      <td>11.000000</td>\n",
       "      <td>8183.000000</td>\n",
       "    </tr>\n",
       "    <tr>\n",
       "      <th>75%</th>\n",
       "      <td>775.000000</td>\n",
       "      <td>767.000000</td>\n",
       "      <td>758.000000</td>\n",
       "      <td>767.000000</td>\n",
       "      <td>767.000000</td>\n",
       "      <td>767.000000</td>\n",
       "      <td>100.000000</td>\n",
       "      <td>100.000000</td>\n",
       "      <td>12.000000</td>\n",
       "      <td>8325.000000</td>\n",
       "    </tr>\n",
       "    <tr>\n",
       "      <th>max</th>\n",
       "      <td>875.000000</td>\n",
       "      <td>883.000000</td>\n",
       "      <td>867.000000</td>\n",
       "      <td>875.000000</td>\n",
       "      <td>842.000000</td>\n",
       "      <td>858.000000</td>\n",
       "      <td>933.000000</td>\n",
       "      <td>933.000000</td>\n",
       "      <td>17.000000</td>\n",
       "      <td>9058.000000</td>\n",
       "    </tr>\n",
       "  </tbody>\n",
       "</table>\n",
       "</div>"
      ],
      "text/plain": [
       "       Scores_Aroma  Scores_Flavor  Scores_Aftertaste  Scores_Acidity  \\\n",
       "count    835.000000     835.000000         835.000000      835.000000   \n",
       "mean     623.726946     615.576048         611.677844      617.116168   \n",
       "std      273.720152     274.245606         263.865747      274.480062   \n",
       "min        0.000000       0.000000           0.000000        0.000000   \n",
       "25%      717.000000     708.000000         683.000000      717.000000   \n",
       "50%      758.000000     742.000000         733.000000      742.000000   \n",
       "75%      775.000000     767.000000         758.000000      767.000000   \n",
       "max      875.000000     883.000000         867.000000      875.000000   \n",
       "\n",
       "       Scores_Body  Scores_Balance  Scores_Uniformity  Scores_Sweetness  \\\n",
       "count   835.000000      835.000000         835.000000        835.000000   \n",
       "mean    610.330539      611.276647         191.758084        157.644311   \n",
       "std     276.366482      276.300203         257.583828        203.439529   \n",
       "min       0.000000        0.000000           0.000000          0.000000   \n",
       "25%     708.000000      692.000000         100.000000        100.000000   \n",
       "50%     742.000000      742.000000         100.000000        100.000000   \n",
       "75%     767.000000      767.000000         100.000000        100.000000   \n",
       "max     842.000000      858.000000         933.000000        933.000000   \n",
       "\n",
       "       Scores_Moisture  Scores_Total  \n",
       "count       835.000000    835.000000  \n",
       "mean          8.231138   6675.440719  \n",
       "std           5.130245   3007.519639  \n",
       "min           0.000000      0.000000  \n",
       "25%           1.000000   7792.000000  \n",
       "50%          11.000000   8183.000000  \n",
       "75%          12.000000   8325.000000  \n",
       "max          17.000000   9058.000000  "
      ]
     },
     "execution_count": 15,
     "metadata": {},
     "output_type": "execute_result"
    }
   ],
   "source": [
    "df.describe()"
   ]
  },
  {
   "cell_type": "code",
   "execution_count": 16,
   "metadata": {},
   "outputs": [
    {
     "name": "stdout",
     "output_type": "stream",
     "text": [
      "<class 'pandas.core.frame.DataFrame'>\n",
      "RangeIndex: 835 entries, 0 to 834\n",
      "Data columns (total 11 columns):\n",
      " #   Column             Non-Null Count  Dtype \n",
      "---  ------             --------------  ----- \n",
      " 0   Scores_Aroma       835 non-null    int64 \n",
      " 1   Scores_Flavor      835 non-null    int64 \n",
      " 2   Scores_Aftertaste  835 non-null    int64 \n",
      " 3   Scores_Acidity     835 non-null    int64 \n",
      " 4   Scores_Body        835 non-null    int64 \n",
      " 5   Scores_Balance     835 non-null    int64 \n",
      " 6   Scores_Uniformity  835 non-null    int64 \n",
      " 7   Scores_Sweetness   835 non-null    int64 \n",
      " 8   Scores_Moisture    835 non-null    int64 \n",
      " 9   Scores_Total       835 non-null    int64 \n",
      " 10  Color              835 non-null    object\n",
      "dtypes: int64(10), object(1)\n",
      "memory usage: 71.9+ KB\n"
     ]
    }
   ],
   "source": [
    "df.info()"
   ]
  },
  {
   "cell_type": "code",
   "execution_count": 17,
   "metadata": {},
   "outputs": [
    {
     "data": {
      "text/html": [
       "<div>\n",
       "<style scoped>\n",
       "    .dataframe tbody tr th:only-of-type {\n",
       "        vertical-align: middle;\n",
       "    }\n",
       "\n",
       "    .dataframe tbody tr th {\n",
       "        vertical-align: top;\n",
       "    }\n",
       "\n",
       "    .dataframe thead th {\n",
       "        text-align: right;\n",
       "    }\n",
       "</style>\n",
       "<table border=\"1\" class=\"dataframe\">\n",
       "  <thead>\n",
       "    <tr style=\"text-align: right;\">\n",
       "      <th></th>\n",
       "      <th>Color</th>\n",
       "    </tr>\n",
       "  </thead>\n",
       "  <tbody>\n",
       "    <tr>\n",
       "      <th>count</th>\n",
       "      <td>835</td>\n",
       "    </tr>\n",
       "    <tr>\n",
       "      <th>unique</th>\n",
       "      <td>3</td>\n",
       "    </tr>\n",
       "    <tr>\n",
       "      <th>top</th>\n",
       "      <td>Green</td>\n",
       "    </tr>\n",
       "    <tr>\n",
       "      <th>freq</th>\n",
       "      <td>681</td>\n",
       "    </tr>\n",
       "  </tbody>\n",
       "</table>\n",
       "</div>"
      ],
      "text/plain": [
       "        Color\n",
       "count     835\n",
       "unique      3\n",
       "top     Green\n",
       "freq      681"
      ]
     },
     "execution_count": 17,
     "metadata": {},
     "output_type": "execute_result"
    }
   ],
   "source": [
    "df.describe(include=['O'])\n",
    "# Columna categórica"
   ]
  },
  {
   "cell_type": "markdown",
   "metadata": {},
   "source": [
    "# Nulos"
   ]
  },
  {
   "cell_type": "code",
   "execution_count": 18,
   "metadata": {},
   "outputs": [
    {
     "data": {
      "text/plain": [
       "Scores_Aroma         0\n",
       "Scores_Flavor        0\n",
       "Scores_Aftertaste    0\n",
       "Scores_Acidity       0\n",
       "Scores_Body          0\n",
       "Scores_Balance       0\n",
       "Scores_Uniformity    0\n",
       "Scores_Sweetness     0\n",
       "Scores_Moisture      0\n",
       "Scores_Total         0\n",
       "Color                0\n",
       "dtype: int64"
      ]
     },
     "execution_count": 18,
     "metadata": {},
     "output_type": "execute_result"
    }
   ],
   "source": [
    "df.isnull().sum()"
   ]
  },
  {
   "cell_type": "markdown",
   "metadata": {},
   "source": [
    "# Gráficos"
   ]
  },
  {
   "cell_type": "code",
   "execution_count": 19,
   "metadata": {},
   "outputs": [
    {
     "data": {
      "image/png": "[encoded data removed]",
      "text/plain": [
       "<Figure size 1500x1000 with 12 Axes>"
      ]
     },
     "metadata": {},
     "output_type": "display_data"
    }
   ],
   "source": [
    "df.hist(bins=10, figsize=(15, 10))\n",
    "plt.suptitle('Distribución de Puntuaciones', fontsize=16)\n",
    "plt.show()\n"
   ]
  },
  {
   "cell_type": "markdown",
   "metadata": {},
   "source": [
    "# Preparar los datos"
   ]
  },
  {
   "cell_type": "code",
   "execution_count": 21,
   "metadata": {},
   "outputs": [],
   "source": [
    "# Seleccionar características y etiqueta\n",
    "X = df.drop('Color', axis=1)\n",
    "y = df['Color']\n",
    "\n",
    "# Dividir en conjuntos de entrenamiento y prueba\n",
    "X_train, X_test, y_train, y_test = train_test_split(X, y, test_size=0.2, random_state=42)\n",
    "\n"
   ]
  },
  {
   "cell_type": "code",
   "execution_count": 22,
   "metadata": {},
   "outputs": [],
   "source": [
    "# Estandarizar las características\n",
    "scaler = StandardScaler()\n",
    "X_train = scaler.fit_transform(X_train)\n",
    "X_test = scaler.transform(X_test)"
   ]
  },
  {
   "cell_type": "markdown",
   "metadata": {},
   "source": [
    "1. Balanceado?"
   ]
  },
  {
   "cell_type": "code",
   "execution_count": 35,
   "metadata": {},
   "outputs": [
    {
     "data": {
      "text/plain": [
       "<Axes: xlabel='Color', ylabel='Count'>"
      ]
     },
     "execution_count": 35,
     "metadata": {},
     "output_type": "execute_result"
    },
    {
     "data": {
      "image/png": "[encoded data removed]",
      "text/plain": [
       "<Figure size 640x480 with 1 Axes>"
      ]
     },
     "metadata": {},
     "output_type": "display_data"
    }
   ],
   "source": [
    "sns.histplot(\n",
    "    df,\n",
    "    x=\"Color\"\n",
    ")"
   ]
  },
  {
   "cell_type": "markdown",
   "metadata": {},
   "source": [
    "# Prediccion del atributo 'Color' - SVM Kernel Lineal"
   ]
  },
  {
   "cell_type": "code",
   "execution_count": 23,
   "metadata": {},
   "outputs": [
    {
     "name": "stdout",
     "output_type": "stream",
     "text": [
      "Precisión media (cross-validation): 0.8173717876781506\n",
      "              precision    recall  f1-score   support\n",
      "\n",
      "  Blue-Green       0.00      0.00      0.00        12\n",
      "Bluish-Green       0.00      0.00      0.00        20\n",
      "       Green       0.81      1.00      0.89       135\n",
      "\n",
      "    accuracy                           0.81       167\n",
      "   macro avg       0.27      0.33      0.30       167\n",
      "weighted avg       0.65      0.81      0.72       167\n",
      "\n"
     ]
    },
    {
     "name": "stderr",
     "output_type": "stream",
     "text": [
      "c:\\Users\\mateo\\OneDrive\\Escritorio\\Facultad\\4to Cuatrimestre\\Mineria\\TP3\\env\\Lib\\site-packages\\sklearn\\metrics\\_classification.py:1517: UndefinedMetricWarning: Precision is ill-defined and being set to 0.0 in labels with no predicted samples. Use `zero_division` parameter to control this behavior.\n",
      "  _warn_prf(average, modifier, f\"{metric.capitalize()} is\", len(result))\n",
      "c:\\Users\\mateo\\OneDrive\\Escritorio\\Facultad\\4to Cuatrimestre\\Mineria\\TP3\\env\\Lib\\site-packages\\sklearn\\metrics\\_classification.py:1517: UndefinedMetricWarning: Precision is ill-defined and being set to 0.0 in labels with no predicted samples. Use `zero_division` parameter to control this behavior.\n",
      "  _warn_prf(average, modifier, f\"{metric.capitalize()} is\", len(result))\n",
      "c:\\Users\\mateo\\OneDrive\\Escritorio\\Facultad\\4to Cuatrimestre\\Mineria\\TP3\\env\\Lib\\site-packages\\sklearn\\metrics\\_classification.py:1517: UndefinedMetricWarning: Precision is ill-defined and being set to 0.0 in labels with no predicted samples. Use `zero_division` parameter to control this behavior.\n",
      "  _warn_prf(average, modifier, f\"{metric.capitalize()} is\", len(result))\n"
     ]
    }
   ],
   "source": [
    "# Entrenar SVM con kernel lineal\n",
    "svm_linear = SVC(kernel='linear', C=1.0)\n",
    "svm_linear.fit(X_train, y_train)\n",
    "\n",
    "# Validación cruzada\n",
    "scores = cross_val_score(svm_linear, X_train, y_train, cv=5, scoring='accuracy')\n",
    "print(f\"Precisión media (cross-validation): {scores.mean()}\")\n",
    "\n",
    "# Evaluar en el conjunto de prueba\n",
    "y_pred = svm_linear.predict(X_test)\n",
    "print(classification_report(y_test, y_pred))"
   ]
  },
  {
   "cell_type": "markdown",
   "metadata": {},
   "source": []
  },
  {
   "cell_type": "markdown",
   "metadata": {},
   "source": [
    "# Preduccuib 'Color' usando SVM Kernel Gaussiano"
   ]
  },
  {
   "cell_type": "code",
   "execution_count": 24,
   "metadata": {},
   "outputs": [
    {
     "name": "stdout",
     "output_type": "stream",
     "text": [
      "Precisión media (cross-validation): 0.8173717876781506\n",
      "              precision    recall  f1-score   support\n",
      "\n",
      "  Blue-Green       0.00      0.00      0.00        12\n",
      "Bluish-Green       0.00      0.00      0.00        20\n",
      "       Green       0.81      1.00      0.89       135\n",
      "\n",
      "    accuracy                           0.81       167\n",
      "   macro avg       0.27      0.33      0.30       167\n",
      "weighted avg       0.65      0.81      0.72       167\n",
      "\n"
     ]
    },
    {
     "name": "stderr",
     "output_type": "stream",
     "text": [
      "c:\\Users\\mateo\\OneDrive\\Escritorio\\Facultad\\4to Cuatrimestre\\Mineria\\TP3\\env\\Lib\\site-packages\\sklearn\\metrics\\_classification.py:1517: UndefinedMetricWarning: Precision is ill-defined and being set to 0.0 in labels with no predicted samples. Use `zero_division` parameter to control this behavior.\n",
      "  _warn_prf(average, modifier, f\"{metric.capitalize()} is\", len(result))\n",
      "c:\\Users\\mateo\\OneDrive\\Escritorio\\Facultad\\4to Cuatrimestre\\Mineria\\TP3\\env\\Lib\\site-packages\\sklearn\\metrics\\_classification.py:1517: UndefinedMetricWarning: Precision is ill-defined and being set to 0.0 in labels with no predicted samples. Use `zero_division` parameter to control this behavior.\n",
      "  _warn_prf(average, modifier, f\"{metric.capitalize()} is\", len(result))\n",
      "c:\\Users\\mateo\\OneDrive\\Escritorio\\Facultad\\4to Cuatrimestre\\Mineria\\TP3\\env\\Lib\\site-packages\\sklearn\\metrics\\_classification.py:1517: UndefinedMetricWarning: Precision is ill-defined and being set to 0.0 in labels with no predicted samples. Use `zero_division` parameter to control this behavior.\n",
      "  _warn_prf(average, modifier, f\"{metric.capitalize()} is\", len(result))\n"
     ]
    }
   ],
   "source": [
    "# Entrenar SVM con kernel gaussiano (RBF)\n",
    "svm_rbf = SVC(kernel='rbf', C=1.0, gamma='scale')\n",
    "svm_rbf.fit(X_train, y_train)\n",
    "\n",
    "# Validación cruzada\n",
    "scores = cross_val_score(svm_rbf, X_train, y_train, cv=5, scoring='accuracy')\n",
    "print(f\"Precisión media (cross-validation): {scores.mean()}\")\n",
    "\n",
    "# Evaluar en el conjunto de prueba\n",
    "y_pred = svm_rbf.predict(X_test)\n",
    "print(classification_report(y_test, y_pred))"
   ]
  },
  {
   "cell_type": "markdown",
   "metadata": {},
   "source": [
    "# Prediccion 'Color' - Random Forest"
   ]
  },
  {
   "cell_type": "code",
   "execution_count": 27,
   "metadata": {},
   "outputs": [
    {
     "name": "stdout",
     "output_type": "stream",
     "text": [
      "Precisión media (cross-validation): 0.8143867130512848\n",
      "              precision    recall  f1-score   support\n",
      "\n",
      "  Blue-Green       1.00      0.08      0.15        12\n",
      "Bluish-Green       0.00      0.00      0.00        20\n",
      "       Green       0.81      0.98      0.89       135\n",
      "\n",
      "    accuracy                           0.80       167\n",
      "   macro avg       0.60      0.35      0.35       167\n",
      "weighted avg       0.73      0.80      0.73       167\n",
      "\n"
     ]
    }
   ],
   "source": [
    "\n",
    "# Entrenar Random Forest\n",
    "rf = RandomForestClassifier(n_estimators=100, max_depth=None, random_state=42)\n",
    "rf.fit(X_train, y_train)\n",
    "\n",
    "# Validación cruzada\n",
    "scores = cross_val_score(rf, X_train, y_train, cv=5, scoring='accuracy')\n",
    "print(f\"Precisión media (cross-validation): {scores.mean()}\")\n",
    "\n",
    "# Evaluar en el conjunto de prueba\n",
    "y_pred = rf.predict(X_test)\n",
    "print(classification_report(y_test, y_pred))"
   ]
  }
 ],
 "metadata": {
  "kernelspec": {
   "display_name": "env",
   "language": "python",
   "name": "python3"
  },
  "language_info": {
   "codemirror_mode": {
    "name": "ipython",
    "version": 3
   },
   "file_extension": ".py",
   "mimetype": "text/x-python",
   "name": "python",
   "nbconvert_exporter": "python",
   "pygments_lexer": "ipython3",
   "version": "3.11.3"
  }
 },
 "nbformat": 4,
 "nbformat_minor": 2
}
